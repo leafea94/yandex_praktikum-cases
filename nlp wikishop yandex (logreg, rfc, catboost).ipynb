{
 "cells": [
  {
   "cell_type": "markdown",
   "metadata": {},
   "source": [
    "Интернет-магазин «Викишоп» запускает новый сервис. Теперь пользователи могут редактировать и дополнять описания товаров, как в вики-сообществах. То есть клиенты предлагают свои правки и комментируют изменения других. Магазину нужен инструмент, который будет искать токсичные комментарии и отправлять их на модерацию.\n",
    "Обучите модель классифицировать комментарии на позитивные и негативные. В вашем распоряжении набор данных с разметкой о токсичности правок.\n",
    "Постройте модель со значением метрики качества F1 не меньше 0.75.\n",
    "\n",
    "Столбец text в датасете содержит текст комментария, а toxic — целевой признак."
   ]
  },
  {
   "cell_type": "markdown",
   "metadata": {},
   "source": [
    "Описание данных\n",
    "\n",
    "Данные находятся в файле toxic_comments.csv. Столбец text в нём содержит текст комментария, а toxic — целевой признак."
   ]
  },
  {
   "cell_type": "code",
   "execution_count": 55,
   "metadata": {},
   "outputs": [],
   "source": [
    "import pandas as pd\n",
    "import numpy as np\n",
    "import matplotlib.pyplot as plt\n",
    "%matplotlib inline\n",
    "import seaborn as sns\n",
    "from pymystem3 import Mystem\n",
    "import re\n",
    "import torch\n",
    "from tqdm import notebook\n",
    "from sklearn.utils import shuffle"
   ]
  },
  {
   "cell_type": "code",
   "execution_count": 56,
   "metadata": {},
   "outputs": [
    {
     "data": {
      "text/html": [
       "<div>\n",
       "<style scoped>\n",
       "    .dataframe tbody tr th:only-of-type {\n",
       "        vertical-align: middle;\n",
       "    }\n",
       "\n",
       "    .dataframe tbody tr th {\n",
       "        vertical-align: top;\n",
       "    }\n",
       "\n",
       "    .dataframe thead th {\n",
       "        text-align: right;\n",
       "    }\n",
       "</style>\n",
       "<table border=\"1\" class=\"dataframe\">\n",
       "  <thead>\n",
       "    <tr style=\"text-align: right;\">\n",
       "      <th></th>\n",
       "      <th>text</th>\n",
       "      <th>toxic</th>\n",
       "    </tr>\n",
       "  </thead>\n",
       "  <tbody>\n",
       "    <tr>\n",
       "      <th>0</th>\n",
       "      <td>Explanation\\nWhy the edits made under my usern...</td>\n",
       "      <td>0</td>\n",
       "    </tr>\n",
       "    <tr>\n",
       "      <th>1</th>\n",
       "      <td>D'aww! He matches this background colour I'm s...</td>\n",
       "      <td>0</td>\n",
       "    </tr>\n",
       "    <tr>\n",
       "      <th>2</th>\n",
       "      <td>Hey man, I'm really not trying to edit war. It...</td>\n",
       "      <td>0</td>\n",
       "    </tr>\n",
       "    <tr>\n",
       "      <th>3</th>\n",
       "      <td>\"\\nMore\\nI can't make any real suggestions on ...</td>\n",
       "      <td>0</td>\n",
       "    </tr>\n",
       "    <tr>\n",
       "      <th>4</th>\n",
       "      <td>You, sir, are my hero. Any chance you remember...</td>\n",
       "      <td>0</td>\n",
       "    </tr>\n",
       "  </tbody>\n",
       "</table>\n",
       "</div>"
      ],
      "text/plain": [
       "                                                text  toxic\n",
       "0  Explanation\\nWhy the edits made under my usern...      0\n",
       "1  D'aww! He matches this background colour I'm s...      0\n",
       "2  Hey man, I'm really not trying to edit war. It...      0\n",
       "3  \"\\nMore\\nI can't make any real suggestions on ...      0\n",
       "4  You, sir, are my hero. Any chance you remember...      0"
      ]
     },
     "execution_count": 56,
     "metadata": {},
     "output_type": "execute_result"
    }
   ],
   "source": [
    "df = pd.read_csv('toxic_comments.csv')\n",
    "df.head()"
   ]
  },
  {
   "cell_type": "code",
   "execution_count": 57,
   "metadata": {},
   "outputs": [
    {
     "name": "stdout",
     "output_type": "stream",
     "text": [
      "<class 'pandas.core.frame.DataFrame'>\n",
      "RangeIndex: 159571 entries, 0 to 159570\n",
      "Data columns (total 2 columns):\n",
      " #   Column  Non-Null Count   Dtype \n",
      "---  ------  --------------   ----- \n",
      " 0   text    159571 non-null  object\n",
      " 1   toxic   159571 non-null  int64 \n",
      "dtypes: int64(1), object(1)\n",
      "memory usage: 2.4+ MB\n"
     ]
    }
   ],
   "source": [
    "df.info()"
   ]
  },
  {
   "cell_type": "code",
   "execution_count": 58,
   "metadata": {},
   "outputs": [],
   "source": [
    "m = Mystem()"
   ]
  },
  {
   "cell_type": "code",
   "execution_count": 59,
   "metadata": {},
   "outputs": [],
   "source": [
    "def preprocessing(text):\n",
    "    t = re.sub(r'[^a-z]', ' ',text.lower())\n",
    "    clear_text = \" \".join(t.split())\n",
    "    lemm_text = \" \".join(m.lemmatize(clear_text))\n",
    "    \n",
    "    return lemm_text"
   ]
  },
  {
   "cell_type": "markdown",
   "metadata": {},
   "source": [
    "Проверяем соотношение классов! "
   ]
  },
  {
   "cell_type": "code",
   "execution_count": 60,
   "metadata": {},
   "outputs": [
    {
     "name": "stdout",
     "output_type": "stream",
     "text": [
      "Соотношение классов:\n"
     ]
    },
    {
     "data": {
      "text/plain": [
       "0    0.898321\n",
       "1    0.101679\n",
       "Name: toxic, dtype: float64"
      ]
     },
     "execution_count": 60,
     "metadata": {},
     "output_type": "execute_result"
    }
   ],
   "source": [
    "print('Соотношение классов:')\n",
    "class_balance = df['toxic'].value_counts()/len(df)\n",
    "class_balance"
   ]
  },
  {
   "cell_type": "markdown",
   "metadata": {},
   "source": [
    "Как мы видим, наблюдается дисбаланс классов. Для его устранения при составлении моделей, необходимо использовать автокоррекцию весов классов или upsampling/downsampling."
   ]
  },
  {
   "cell_type": "code",
   "execution_count": 61,
   "metadata": {},
   "outputs": [],
   "source": [
    "df['lemm_text'] = df['text'].apply(lambda x: preprocessing(x))"
   ]
  },
  {
   "cell_type": "code",
   "execution_count": 62,
   "metadata": {},
   "outputs": [
    {
     "data": {
      "text/html": [
       "<div>\n",
       "<style scoped>\n",
       "    .dataframe tbody tr th:only-of-type {\n",
       "        vertical-align: middle;\n",
       "    }\n",
       "\n",
       "    .dataframe tbody tr th {\n",
       "        vertical-align: top;\n",
       "    }\n",
       "\n",
       "    .dataframe thead th {\n",
       "        text-align: right;\n",
       "    }\n",
       "</style>\n",
       "<table border=\"1\" class=\"dataframe\">\n",
       "  <thead>\n",
       "    <tr style=\"text-align: right;\">\n",
       "      <th></th>\n",
       "      <th>text</th>\n",
       "      <th>toxic</th>\n",
       "      <th>lemm_text</th>\n",
       "    </tr>\n",
       "  </thead>\n",
       "  <tbody>\n",
       "    <tr>\n",
       "      <th>0</th>\n",
       "      <td>Explanation\\nWhy the edits made under my usern...</td>\n",
       "      <td>0</td>\n",
       "      <td>explanation   why   the   edits   made   under...</td>\n",
       "    </tr>\n",
       "    <tr>\n",
       "      <th>1</th>\n",
       "      <td>D'aww! He matches this background colour I'm s...</td>\n",
       "      <td>0</td>\n",
       "      <td>d   aww   he   matches   this   background   c...</td>\n",
       "    </tr>\n",
       "    <tr>\n",
       "      <th>2</th>\n",
       "      <td>Hey man, I'm really not trying to edit war. It...</td>\n",
       "      <td>0</td>\n",
       "      <td>hey   man   i   m   really   not   trying   to...</td>\n",
       "    </tr>\n",
       "    <tr>\n",
       "      <th>3</th>\n",
       "      <td>\"\\nMore\\nI can't make any real suggestions on ...</td>\n",
       "      <td>0</td>\n",
       "      <td>more   i   can   t   make   any   real   sugge...</td>\n",
       "    </tr>\n",
       "    <tr>\n",
       "      <th>4</th>\n",
       "      <td>You, sir, are my hero. Any chance you remember...</td>\n",
       "      <td>0</td>\n",
       "      <td>you   sir   are   my   hero   any   chance   y...</td>\n",
       "    </tr>\n",
       "  </tbody>\n",
       "</table>\n",
       "</div>"
      ],
      "text/plain": [
       "                                                text  toxic  \\\n",
       "0  Explanation\\nWhy the edits made under my usern...      0   \n",
       "1  D'aww! He matches this background colour I'm s...      0   \n",
       "2  Hey man, I'm really not trying to edit war. It...      0   \n",
       "3  \"\\nMore\\nI can't make any real suggestions on ...      0   \n",
       "4  You, sir, are my hero. Any chance you remember...      0   \n",
       "\n",
       "                                           lemm_text  \n",
       "0  explanation   why   the   edits   made   under...  \n",
       "1  d   aww   he   matches   this   background   c...  \n",
       "2  hey   man   i   m   really   not   trying   to...  \n",
       "3  more   i   can   t   make   any   real   sugge...  \n",
       "4  you   sir   are   my   hero   any   chance   y...  "
      ]
     },
     "execution_count": 62,
     "metadata": {},
     "output_type": "execute_result"
    }
   ],
   "source": [
    "df.head()"
   ]
  },
  {
   "cell_type": "code",
   "execution_count": 63,
   "metadata": {},
   "outputs": [
    {
     "name": "stderr",
     "output_type": "stream",
     "text": [
      "[nltk_data] Downloading package stopwords to\n",
      "[nltk_data]     /Users/lubava/nltk_data...\n",
      "[nltk_data]   Package stopwords is already up-to-date!\n"
     ]
    }
   ],
   "source": [
    "import nltk\n",
    "\n",
    "from nltk.corpus import stopwords\n",
    "nltk.download('stopwords')\n",
    "stop_words = set(stopwords.words('english'))"
   ]
  },
  {
   "cell_type": "code",
   "execution_count": 64,
   "metadata": {},
   "outputs": [],
   "source": [
    "from sklearn.model_selection import train_test_split\n",
    "from sklearn.feature_extraction.text import TfidfVectorizer"
   ]
  },
  {
   "cell_type": "code",
   "execution_count": 65,
   "metadata": {},
   "outputs": [],
   "source": [
    "df = shuffle(df, random_state=54321)"
   ]
  },
  {
   "cell_type": "code",
   "execution_count": 67,
   "metadata": {},
   "outputs": [],
   "source": [
    "X = df['lemm_text']\n",
    "y = df['toxic']\n",
    "\n",
    "corpus, corpus_test, y, y_test  = train_test_split(X, y, test_size=0.2, random_state=123)\n",
    "corpus_train, corpus_valid, y_train, y_valid = train_test_split(corpus, y, test_size=0.25, random_state=123)"
   ]
  },
  {
   "cell_type": "code",
   "execution_count": 33,
   "metadata": {},
   "outputs": [],
   "source": []
  },
  {
   "cell_type": "code",
   "execution_count": 68,
   "metadata": {},
   "outputs": [],
   "source": [
    "count_tf_idf = TfidfVectorizer(stop_words=stop_words)\n",
    "X_train = count_tf_idf.fit_transform(corpus_train)\n",
    "X_valid = count_tf_idf.transform(corpus_valid)\n",
    "X_test = count_tf_idf.transform(corpus_test)"
   ]
  },
  {
   "cell_type": "code",
   "execution_count": 69,
   "metadata": {},
   "outputs": [
    {
     "name": "stdout",
     "output_type": "stream",
     "text": [
      "Размер тестовой выборки:\n",
      "(31915,)\n"
     ]
    }
   ],
   "source": [
    "print('Размер тестовой выборки:')\n",
    "print(corpus_test.shape)"
   ]
  },
  {
   "cell_type": "markdown",
   "metadata": {},
   "source": [
    "Таким образом, мы произвели разделение нашей выборки на тренировочную, валидационную и тестовую.\n",
    "Далее рассмотрим разные модельки"
   ]
  },
  {
   "cell_type": "code",
   "execution_count": 70,
   "metadata": {},
   "outputs": [],
   "source": [
    "from sklearn.ensemble import RandomForestClassifier"
   ]
  },
  {
   "cell_type": "code",
   "execution_count": 76,
   "metadata": {},
   "outputs": [],
   "source": [
    "rfc = RandomForestClassifier(n_estimators=50,max_depth=5,class_weight='balanced' )"
   ]
  },
  {
   "cell_type": "code",
   "execution_count": 77,
   "metadata": {},
   "outputs": [
    {
     "data": {
      "text/plain": [
       "RandomForestClassifier(bootstrap=True, ccp_alpha=0.0, class_weight='balanced',\n",
       "                       criterion='gini', max_depth=5, max_features='auto',\n",
       "                       max_leaf_nodes=None, max_samples=None,\n",
       "                       min_impurity_decrease=0.0, min_impurity_split=None,\n",
       "                       min_samples_leaf=1, min_samples_split=2,\n",
       "                       min_weight_fraction_leaf=0.0, n_estimators=50,\n",
       "                       n_jobs=None, oob_score=False, random_state=None,\n",
       "                       verbose=0, warm_start=False)"
      ]
     },
     "execution_count": 77,
     "metadata": {},
     "output_type": "execute_result"
    }
   ],
   "source": [
    "rfc.fit(X_train, y_train)"
   ]
  },
  {
   "cell_type": "code",
   "execution_count": 78,
   "metadata": {},
   "outputs": [],
   "source": [
    "pred_rfc = rfc.predict(X_test)"
   ]
  },
  {
   "cell_type": "code",
   "execution_count": 79,
   "metadata": {},
   "outputs": [],
   "source": [
    "from sklearn.metrics import classification_report"
   ]
  },
  {
   "cell_type": "code",
   "execution_count": 80,
   "metadata": {},
   "outputs": [
    {
     "name": "stdout",
     "output_type": "stream",
     "text": [
      "              precision    recall  f1-score   support\n",
      "\n",
      "           0       0.60      0.97      0.74     17831\n",
      "           1       0.84      0.19      0.31     14084\n",
      "\n",
      "    accuracy                           0.63     31915\n",
      "   macro avg       0.72      0.58      0.53     31915\n",
      "weighted avg       0.71      0.63      0.55     31915\n",
      "\n"
     ]
    }
   ],
   "source": [
    "print(classification_report(pred_rfc,y_test))"
   ]
  },
  {
   "cell_type": "code",
   "execution_count": 81,
   "metadata": {},
   "outputs": [],
   "source": [
    "from sklearn.model_selection import GridSearchCV"
   ]
  },
  {
   "cell_type": "code",
   "execution_count": 105,
   "metadata": {},
   "outputs": [],
   "source": [
    "param_grid = {'n_estimators': [45, 50, 90], \n",
    "              'max_depth': [2, 3, 5, 10],\n",
    "              'min_samples_split': [2, 3, 5]}"
   ]
  },
  {
   "cell_type": "code",
   "execution_count": 106,
   "metadata": {},
   "outputs": [],
   "source": [
    "grid = GridSearchCV(rfc,param_grid, refit=True, verbose=3, n_jobs=1)"
   ]
  },
  {
   "cell_type": "code",
   "execution_count": 107,
   "metadata": {},
   "outputs": [
    {
     "name": "stdout",
     "output_type": "stream",
     "text": [
      "Fitting 5 folds for each of 36 candidates, totalling 180 fits\n",
      "[CV] max_depth=2, min_samples_split=2, n_estimators=45 ...............\n"
     ]
    },
    {
     "name": "stderr",
     "output_type": "stream",
     "text": [
      "[Parallel(n_jobs=1)]: Using backend SequentialBackend with 1 concurrent workers.\n"
     ]
    },
    {
     "name": "stdout",
     "output_type": "stream",
     "text": [
      "[CV]  max_depth=2, min_samples_split=2, n_estimators=45, score=0.546, total=   2.9s\n",
      "[CV] max_depth=2, min_samples_split=2, n_estimators=45 ...............\n"
     ]
    },
    {
     "name": "stderr",
     "output_type": "stream",
     "text": [
      "[Parallel(n_jobs=1)]: Done   1 out of   1 | elapsed:    2.9s remaining:    0.0s\n"
     ]
    },
    {
     "name": "stdout",
     "output_type": "stream",
     "text": [
      "[CV]  max_depth=2, min_samples_split=2, n_estimators=45, score=0.573, total=   2.8s\n",
      "[CV] max_depth=2, min_samples_split=2, n_estimators=45 ...............\n"
     ]
    },
    {
     "name": "stderr",
     "output_type": "stream",
     "text": [
      "[Parallel(n_jobs=1)]: Done   2 out of   2 | elapsed:    5.7s remaining:    0.0s\n"
     ]
    },
    {
     "name": "stdout",
     "output_type": "stream",
     "text": [
      "[CV]  max_depth=2, min_samples_split=2, n_estimators=45, score=0.587, total=   2.7s\n",
      "[CV] max_depth=2, min_samples_split=2, n_estimators=45 ...............\n",
      "[CV]  max_depth=2, min_samples_split=2, n_estimators=45, score=0.562, total=   2.7s\n",
      "[CV] max_depth=2, min_samples_split=2, n_estimators=45 ...............\n",
      "[CV]  max_depth=2, min_samples_split=2, n_estimators=45, score=0.583, total=   2.7s\n",
      "[CV] max_depth=2, min_samples_split=2, n_estimators=50 ...............\n",
      "[CV]  max_depth=2, min_samples_split=2, n_estimators=50, score=0.542, total=   3.0s\n",
      "[CV] max_depth=2, min_samples_split=2, n_estimators=50 ...............\n",
      "[CV]  max_depth=2, min_samples_split=2, n_estimators=50, score=0.591, total=   3.0s\n",
      "[CV] max_depth=2, min_samples_split=2, n_estimators=50 ...............\n",
      "[CV]  max_depth=2, min_samples_split=2, n_estimators=50, score=0.577, total=   3.1s\n",
      "[CV] max_depth=2, min_samples_split=2, n_estimators=50 ...............\n",
      "[CV]  max_depth=2, min_samples_split=2, n_estimators=50, score=0.591, total=   3.2s\n",
      "[CV] max_depth=2, min_samples_split=2, n_estimators=50 ...............\n",
      "[CV]  max_depth=2, min_samples_split=2, n_estimators=50, score=0.609, total=   3.7s\n",
      "[CV] max_depth=2, min_samples_split=2, n_estimators=90 ...............\n",
      "[CV]  max_depth=2, min_samples_split=2, n_estimators=90, score=0.594, total=   7.5s\n",
      "[CV] max_depth=2, min_samples_split=2, n_estimators=90 ...............\n",
      "[CV]  max_depth=2, min_samples_split=2, n_estimators=90, score=0.625, total=   7.5s\n",
      "[CV] max_depth=2, min_samples_split=2, n_estimators=90 ...............\n",
      "[CV]  max_depth=2, min_samples_split=2, n_estimators=90, score=0.579, total=   6.1s\n",
      "[CV] max_depth=2, min_samples_split=2, n_estimators=90 ...............\n",
      "[CV]  max_depth=2, min_samples_split=2, n_estimators=90, score=0.552, total=   5.5s\n",
      "[CV] max_depth=2, min_samples_split=2, n_estimators=90 ...............\n",
      "[CV]  max_depth=2, min_samples_split=2, n_estimators=90, score=0.678, total=   5.5s\n",
      "[CV] max_depth=2, min_samples_split=3, n_estimators=45 ...............\n",
      "[CV]  max_depth=2, min_samples_split=3, n_estimators=45, score=0.585, total=   2.9s\n",
      "[CV] max_depth=2, min_samples_split=3, n_estimators=45 ...............\n",
      "[CV]  max_depth=2, min_samples_split=3, n_estimators=45, score=0.605, total=   2.8s\n",
      "[CV] max_depth=2, min_samples_split=3, n_estimators=45 ...............\n",
      "[CV]  max_depth=2, min_samples_split=3, n_estimators=45, score=0.580, total=   2.9s\n",
      "[CV] max_depth=2, min_samples_split=3, n_estimators=45 ...............\n",
      "[CV]  max_depth=2, min_samples_split=3, n_estimators=45, score=0.566, total=   2.8s\n",
      "[CV] max_depth=2, min_samples_split=3, n_estimators=45 ...............\n",
      "[CV]  max_depth=2, min_samples_split=3, n_estimators=45, score=0.620, total=   2.9s\n",
      "[CV] max_depth=2, min_samples_split=3, n_estimators=50 ...............\n",
      "[CV]  max_depth=2, min_samples_split=3, n_estimators=50, score=0.553, total=   3.1s\n",
      "[CV] max_depth=2, min_samples_split=3, n_estimators=50 ...............\n",
      "[CV]  max_depth=2, min_samples_split=3, n_estimators=50, score=0.567, total=   3.1s\n",
      "[CV] max_depth=2, min_samples_split=3, n_estimators=50 ...............\n",
      "[CV]  max_depth=2, min_samples_split=3, n_estimators=50, score=0.562, total=   3.1s\n",
      "[CV] max_depth=2, min_samples_split=3, n_estimators=50 ...............\n",
      "[CV]  max_depth=2, min_samples_split=3, n_estimators=50, score=0.562, total=   3.1s\n",
      "[CV] max_depth=2, min_samples_split=3, n_estimators=50 ...............\n",
      "[CV]  max_depth=2, min_samples_split=3, n_estimators=50, score=0.590, total=   3.1s\n",
      "[CV] max_depth=2, min_samples_split=3, n_estimators=90 ...............\n",
      "[CV]  max_depth=2, min_samples_split=3, n_estimators=90, score=0.579, total=   6.5s\n",
      "[CV] max_depth=2, min_samples_split=3, n_estimators=90 ...............\n",
      "[CV]  max_depth=2, min_samples_split=3, n_estimators=90, score=0.642, total=   5.7s\n",
      "[CV] max_depth=2, min_samples_split=3, n_estimators=90 ...............\n",
      "[CV]  max_depth=2, min_samples_split=3, n_estimators=90, score=0.591, total=   5.5s\n",
      "[CV] max_depth=2, min_samples_split=3, n_estimators=90 ...............\n",
      "[CV]  max_depth=2, min_samples_split=3, n_estimators=90, score=0.640, total=   5.5s\n",
      "[CV] max_depth=2, min_samples_split=3, n_estimators=90 ...............\n",
      "[CV]  max_depth=2, min_samples_split=3, n_estimators=90, score=0.632, total=   5.5s\n",
      "[CV] max_depth=2, min_samples_split=5, n_estimators=45 ...............\n",
      "[CV]  max_depth=2, min_samples_split=5, n_estimators=45, score=0.574, total=   2.8s\n",
      "[CV] max_depth=2, min_samples_split=5, n_estimators=45 ...............\n",
      "[CV]  max_depth=2, min_samples_split=5, n_estimators=45, score=0.551, total=   2.9s\n",
      "[CV] max_depth=2, min_samples_split=5, n_estimators=45 ...............\n",
      "[CV]  max_depth=2, min_samples_split=5, n_estimators=45, score=0.578, total=   2.9s\n",
      "[CV] max_depth=2, min_samples_split=5, n_estimators=45 ...............\n",
      "[CV]  max_depth=2, min_samples_split=5, n_estimators=45, score=0.628, total=   2.8s\n",
      "[CV] max_depth=2, min_samples_split=5, n_estimators=45 ...............\n",
      "[CV]  max_depth=2, min_samples_split=5, n_estimators=45, score=0.576, total=   2.8s\n",
      "[CV] max_depth=2, min_samples_split=5, n_estimators=50 ...............\n",
      "[CV]  max_depth=2, min_samples_split=5, n_estimators=50, score=0.564, total=   3.1s\n",
      "[CV] max_depth=2, min_samples_split=5, n_estimators=50 ...............\n",
      "[CV]  max_depth=2, min_samples_split=5, n_estimators=50, score=0.586, total=   3.1s\n",
      "[CV] max_depth=2, min_samples_split=5, n_estimators=50 ...............\n",
      "[CV]  max_depth=2, min_samples_split=5, n_estimators=50, score=0.535, total=   3.3s\n",
      "[CV] max_depth=2, min_samples_split=5, n_estimators=50 ...............\n",
      "[CV]  max_depth=2, min_samples_split=5, n_estimators=50, score=0.571, total=   3.3s\n",
      "[CV] max_depth=2, min_samples_split=5, n_estimators=50 ...............\n",
      "[CV]  max_depth=2, min_samples_split=5, n_estimators=50, score=0.544, total=   3.1s\n",
      "[CV] max_depth=2, min_samples_split=5, n_estimators=90 ...............\n",
      "[CV]  max_depth=2, min_samples_split=5, n_estimators=90, score=0.671, total=   5.4s\n",
      "[CV] max_depth=2, min_samples_split=5, n_estimators=90 ...............\n",
      "[CV]  max_depth=2, min_samples_split=5, n_estimators=90, score=0.583, total=   5.5s\n",
      "[CV] max_depth=2, min_samples_split=5, n_estimators=90 ...............\n",
      "[CV]  max_depth=2, min_samples_split=5, n_estimators=90, score=0.638, total=   5.5s\n",
      "[CV] max_depth=2, min_samples_split=5, n_estimators=90 ...............\n",
      "[CV]  max_depth=2, min_samples_split=5, n_estimators=90, score=0.598, total=   5.5s\n",
      "[CV] max_depth=2, min_samples_split=5, n_estimators=90 ...............\n",
      "[CV]  max_depth=2, min_samples_split=5, n_estimators=90, score=0.625, total=   5.5s\n",
      "[CV] max_depth=3, min_samples_split=2, n_estimators=45 ...............\n",
      "[CV]  max_depth=3, min_samples_split=2, n_estimators=45, score=0.586, total=   4.0s\n",
      "[CV] max_depth=3, min_samples_split=2, n_estimators=45 ...............\n",
      "[CV]  max_depth=3, min_samples_split=2, n_estimators=45, score=0.616, total=   3.9s\n",
      "[CV] max_depth=3, min_samples_split=2, n_estimators=45 ...............\n",
      "[CV]  max_depth=3, min_samples_split=2, n_estimators=45, score=0.637, total=   4.0s\n",
      "[CV] max_depth=3, min_samples_split=2, n_estimators=45 ...............\n",
      "[CV]  max_depth=3, min_samples_split=2, n_estimators=45, score=0.654, total=   4.1s\n",
      "[CV] max_depth=3, min_samples_split=2, n_estimators=45 ...............\n",
      "[CV]  max_depth=3, min_samples_split=2, n_estimators=45, score=0.651, total=   4.5s\n",
      "[CV] max_depth=3, min_samples_split=2, n_estimators=50 ...............\n",
      "[CV]  max_depth=3, min_samples_split=2, n_estimators=50, score=0.628, total=   4.7s\n",
      "[CV] max_depth=3, min_samples_split=2, n_estimators=50 ...............\n",
      "[CV]  max_depth=3, min_samples_split=2, n_estimators=50, score=0.623, total=   4.6s\n",
      "[CV] max_depth=3, min_samples_split=2, n_estimators=50 ...............\n",
      "[CV]  max_depth=3, min_samples_split=2, n_estimators=50, score=0.595, total=   4.7s\n",
      "[CV] max_depth=3, min_samples_split=2, n_estimators=50 ...............\n",
      "[CV]  max_depth=3, min_samples_split=2, n_estimators=50, score=0.632, total=   4.6s\n",
      "[CV] max_depth=3, min_samples_split=2, n_estimators=50 ...............\n",
      "[CV]  max_depth=3, min_samples_split=2, n_estimators=50, score=0.573, total=   4.5s\n",
      "[CV] max_depth=3, min_samples_split=2, n_estimators=90 ...............\n"
     ]
    },
    {
     "name": "stdout",
     "output_type": "stream",
     "text": [
      "[CV]  max_depth=3, min_samples_split=2, n_estimators=90, score=0.624, total=   7.7s\n",
      "[CV] max_depth=3, min_samples_split=2, n_estimators=90 ...............\n",
      "[CV]  max_depth=3, min_samples_split=2, n_estimators=90, score=0.651, total=   7.7s\n",
      "[CV] max_depth=3, min_samples_split=2, n_estimators=90 ...............\n",
      "[CV]  max_depth=3, min_samples_split=2, n_estimators=90, score=0.607, total=   7.8s\n",
      "[CV] max_depth=3, min_samples_split=2, n_estimators=90 ...............\n",
      "[CV]  max_depth=3, min_samples_split=2, n_estimators=90, score=0.677, total=   8.4s\n",
      "[CV] max_depth=3, min_samples_split=2, n_estimators=90 ...............\n",
      "[CV]  max_depth=3, min_samples_split=2, n_estimators=90, score=0.610, total=   8.1s\n",
      "[CV] max_depth=3, min_samples_split=3, n_estimators=45 ...............\n",
      "[CV]  max_depth=3, min_samples_split=3, n_estimators=45, score=0.636, total=   3.9s\n",
      "[CV] max_depth=3, min_samples_split=3, n_estimators=45 ...............\n",
      "[CV]  max_depth=3, min_samples_split=3, n_estimators=45, score=0.568, total=   3.9s\n",
      "[CV] max_depth=3, min_samples_split=3, n_estimators=45 ...............\n",
      "[CV]  max_depth=3, min_samples_split=3, n_estimators=45, score=0.618, total=   4.0s\n",
      "[CV] max_depth=3, min_samples_split=3, n_estimators=45 ...............\n",
      "[CV]  max_depth=3, min_samples_split=3, n_estimators=45, score=0.611, total=   3.9s\n",
      "[CV] max_depth=3, min_samples_split=3, n_estimators=45 ...............\n",
      "[CV]  max_depth=3, min_samples_split=3, n_estimators=45, score=0.594, total=   3.8s\n",
      "[CV] max_depth=3, min_samples_split=3, n_estimators=50 ...............\n",
      "[CV]  max_depth=3, min_samples_split=3, n_estimators=50, score=0.588, total=   4.4s\n",
      "[CV] max_depth=3, min_samples_split=3, n_estimators=50 ...............\n",
      "[CV]  max_depth=3, min_samples_split=3, n_estimators=50, score=0.659, total=   4.4s\n",
      "[CV] max_depth=3, min_samples_split=3, n_estimators=50 ...............\n",
      "[CV]  max_depth=3, min_samples_split=3, n_estimators=50, score=0.578, total=   4.3s\n",
      "[CV] max_depth=3, min_samples_split=3, n_estimators=50 ...............\n",
      "[CV]  max_depth=3, min_samples_split=3, n_estimators=50, score=0.659, total=   4.3s\n",
      "[CV] max_depth=3, min_samples_split=3, n_estimators=50 ...............\n",
      "[CV]  max_depth=3, min_samples_split=3, n_estimators=50, score=0.604, total=   4.6s\n",
      "[CV] max_depth=3, min_samples_split=3, n_estimators=90 ...............\n",
      "[CV]  max_depth=3, min_samples_split=3, n_estimators=90, score=0.590, total=   7.6s\n",
      "[CV] max_depth=3, min_samples_split=3, n_estimators=90 ...............\n",
      "[CV]  max_depth=3, min_samples_split=3, n_estimators=90, score=0.625, total=   7.7s\n",
      "[CV] max_depth=3, min_samples_split=3, n_estimators=90 ...............\n",
      "[CV]  max_depth=3, min_samples_split=3, n_estimators=90, score=0.656, total=   8.1s\n",
      "[CV] max_depth=3, min_samples_split=3, n_estimators=90 ...............\n",
      "[CV]  max_depth=3, min_samples_split=3, n_estimators=90, score=0.621, total=   7.8s\n",
      "[CV] max_depth=3, min_samples_split=3, n_estimators=90 ...............\n",
      "[CV]  max_depth=3, min_samples_split=3, n_estimators=90, score=0.685, total=   8.7s\n",
      "[CV] max_depth=3, min_samples_split=5, n_estimators=45 ...............\n",
      "[CV]  max_depth=3, min_samples_split=5, n_estimators=45, score=0.602, total=   4.3s\n",
      "[CV] max_depth=3, min_samples_split=5, n_estimators=45 ...............\n",
      "[CV]  max_depth=3, min_samples_split=5, n_estimators=45, score=0.603, total=   4.4s\n",
      "[CV] max_depth=3, min_samples_split=5, n_estimators=45 ...............\n",
      "[CV]  max_depth=3, min_samples_split=5, n_estimators=45, score=0.570, total=   4.8s\n",
      "[CV] max_depth=3, min_samples_split=5, n_estimators=45 ...............\n",
      "[CV]  max_depth=3, min_samples_split=5, n_estimators=45, score=0.633, total=   4.2s\n",
      "[CV] max_depth=3, min_samples_split=5, n_estimators=45 ...............\n",
      "[CV]  max_depth=3, min_samples_split=5, n_estimators=45, score=0.617, total=   4.5s\n",
      "[CV] max_depth=3, min_samples_split=5, n_estimators=50 ...............\n",
      "[CV]  max_depth=3, min_samples_split=5, n_estimators=50, score=0.568, total=   4.6s\n",
      "[CV] max_depth=3, min_samples_split=5, n_estimators=50 ...............\n",
      "[CV]  max_depth=3, min_samples_split=5, n_estimators=50, score=0.651, total=   4.4s\n",
      "[CV] max_depth=3, min_samples_split=5, n_estimators=50 ...............\n",
      "[CV]  max_depth=3, min_samples_split=5, n_estimators=50, score=0.697, total=   4.4s\n",
      "[CV] max_depth=3, min_samples_split=5, n_estimators=50 ...............\n",
      "[CV]  max_depth=3, min_samples_split=5, n_estimators=50, score=0.559, total=   4.4s\n",
      "[CV] max_depth=3, min_samples_split=5, n_estimators=50 ...............\n",
      "[CV]  max_depth=3, min_samples_split=5, n_estimators=50, score=0.613, total=   4.4s\n",
      "[CV] max_depth=3, min_samples_split=5, n_estimators=90 ...............\n",
      "[CV]  max_depth=3, min_samples_split=5, n_estimators=90, score=0.607, total=   7.8s\n",
      "[CV] max_depth=3, min_samples_split=5, n_estimators=90 ...............\n",
      "[CV]  max_depth=3, min_samples_split=5, n_estimators=90, score=0.598, total=   7.8s\n",
      "[CV] max_depth=3, min_samples_split=5, n_estimators=90 ...............\n",
      "[CV]  max_depth=3, min_samples_split=5, n_estimators=90, score=0.636, total=   7.9s\n",
      "[CV] max_depth=3, min_samples_split=5, n_estimators=90 ...............\n",
      "[CV]  max_depth=3, min_samples_split=5, n_estimators=90, score=0.692, total=   7.7s\n",
      "[CV] max_depth=3, min_samples_split=5, n_estimators=90 ...............\n",
      "[CV]  max_depth=3, min_samples_split=5, n_estimators=90, score=0.619, total=   7.8s\n",
      "[CV] max_depth=5, min_samples_split=2, n_estimators=45 ...............\n",
      "[CV]  max_depth=5, min_samples_split=2, n_estimators=45, score=0.587, total=   6.3s\n",
      "[CV] max_depth=5, min_samples_split=2, n_estimators=45 ...............\n",
      "[CV]  max_depth=5, min_samples_split=2, n_estimators=45, score=0.645, total=   6.2s\n",
      "[CV] max_depth=5, min_samples_split=2, n_estimators=45 ...............\n",
      "[CV]  max_depth=5, min_samples_split=2, n_estimators=45, score=0.603, total=   7.3s\n",
      "[CV] max_depth=5, min_samples_split=2, n_estimators=45 ...............\n",
      "[CV]  max_depth=5, min_samples_split=2, n_estimators=45, score=0.620, total=   7.9s\n",
      "[CV] max_depth=5, min_samples_split=2, n_estimators=45 ...............\n",
      "[CV]  max_depth=5, min_samples_split=2, n_estimators=45, score=0.594, total=   6.2s\n",
      "[CV] max_depth=5, min_samples_split=2, n_estimators=50 ...............\n",
      "[CV]  max_depth=5, min_samples_split=2, n_estimators=50, score=0.593, total=   7.0s\n",
      "[CV] max_depth=5, min_samples_split=2, n_estimators=50 ...............\n",
      "[CV]  max_depth=5, min_samples_split=2, n_estimators=50, score=0.664, total=   7.2s\n",
      "[CV] max_depth=5, min_samples_split=2, n_estimators=50 ...............\n",
      "[CV]  max_depth=5, min_samples_split=2, n_estimators=50, score=0.618, total=   7.6s\n",
      "[CV] max_depth=5, min_samples_split=2, n_estimators=50 ...............\n",
      "[CV]  max_depth=5, min_samples_split=2, n_estimators=50, score=0.627, total=   7.3s\n",
      "[CV] max_depth=5, min_samples_split=2, n_estimators=50 ...............\n",
      "[CV]  max_depth=5, min_samples_split=2, n_estimators=50, score=0.665, total=   7.5s\n",
      "[CV] max_depth=5, min_samples_split=2, n_estimators=90 ...............\n",
      "[CV]  max_depth=5, min_samples_split=2, n_estimators=90, score=0.617, total=  13.4s\n",
      "[CV] max_depth=5, min_samples_split=2, n_estimators=90 ...............\n",
      "[CV]  max_depth=5, min_samples_split=2, n_estimators=90, score=0.649, total=  12.3s\n",
      "[CV] max_depth=5, min_samples_split=2, n_estimators=90 ...............\n",
      "[CV]  max_depth=5, min_samples_split=2, n_estimators=90, score=0.670, total=  12.4s\n",
      "[CV] max_depth=5, min_samples_split=2, n_estimators=90 ...............\n",
      "[CV]  max_depth=5, min_samples_split=2, n_estimators=90, score=0.664, total=  12.2s\n",
      "[CV] max_depth=5, min_samples_split=2, n_estimators=90 ...............\n",
      "[CV]  max_depth=5, min_samples_split=2, n_estimators=90, score=0.648, total=  12.3s\n",
      "[CV] max_depth=5, min_samples_split=3, n_estimators=45 ...............\n",
      "[CV]  max_depth=5, min_samples_split=3, n_estimators=45, score=0.638, total=   6.3s\n",
      "[CV] max_depth=5, min_samples_split=3, n_estimators=45 ...............\n",
      "[CV]  max_depth=5, min_samples_split=3, n_estimators=45, score=0.618, total=   6.2s\n",
      "[CV] max_depth=5, min_samples_split=3, n_estimators=45 ...............\n",
      "[CV]  max_depth=5, min_samples_split=3, n_estimators=45, score=0.622, total=   6.2s\n",
      "[CV] max_depth=5, min_samples_split=3, n_estimators=45 ...............\n"
     ]
    },
    {
     "name": "stdout",
     "output_type": "stream",
     "text": [
      "[CV]  max_depth=5, min_samples_split=3, n_estimators=45, score=0.630, total=   6.2s\n",
      "[CV] max_depth=5, min_samples_split=3, n_estimators=45 ...............\n",
      "[CV]  max_depth=5, min_samples_split=3, n_estimators=45, score=0.649, total=   6.7s\n",
      "[CV] max_depth=5, min_samples_split=3, n_estimators=50 ...............\n",
      "[CV]  max_depth=5, min_samples_split=3, n_estimators=50, score=0.615, total=   7.0s\n",
      "[CV] max_depth=5, min_samples_split=3, n_estimators=50 ...............\n",
      "[CV]  max_depth=5, min_samples_split=3, n_estimators=50, score=0.616, total=   7.3s\n",
      "[CV] max_depth=5, min_samples_split=3, n_estimators=50 ...............\n",
      "[CV]  max_depth=5, min_samples_split=3, n_estimators=50, score=0.580, total=   7.3s\n",
      "[CV] max_depth=5, min_samples_split=3, n_estimators=50 ...............\n",
      "[CV]  max_depth=5, min_samples_split=3, n_estimators=50, score=0.657, total=   7.1s\n",
      "[CV] max_depth=5, min_samples_split=3, n_estimators=50 ...............\n",
      "[CV]  max_depth=5, min_samples_split=3, n_estimators=50, score=0.626, total=   6.9s\n",
      "[CV] max_depth=5, min_samples_split=3, n_estimators=90 ...............\n",
      "[CV]  max_depth=5, min_samples_split=3, n_estimators=90, score=0.644, total=  12.2s\n",
      "[CV] max_depth=5, min_samples_split=3, n_estimators=90 ...............\n",
      "[CV]  max_depth=5, min_samples_split=3, n_estimators=90, score=0.638, total=  12.3s\n",
      "[CV] max_depth=5, min_samples_split=3, n_estimators=90 ...............\n",
      "[CV]  max_depth=5, min_samples_split=3, n_estimators=90, score=0.674, total=  12.8s\n",
      "[CV] max_depth=5, min_samples_split=3, n_estimators=90 ...............\n",
      "[CV]  max_depth=5, min_samples_split=3, n_estimators=90, score=0.669, total=  12.7s\n",
      "[CV] max_depth=5, min_samples_split=3, n_estimators=90 ...............\n",
      "[CV]  max_depth=5, min_samples_split=3, n_estimators=90, score=0.665, total=  12.4s\n",
      "[CV] max_depth=5, min_samples_split=5, n_estimators=45 ...............\n",
      "[CV]  max_depth=5, min_samples_split=5, n_estimators=45, score=0.650, total=   6.2s\n",
      "[CV] max_depth=5, min_samples_split=5, n_estimators=45 ...............\n",
      "[CV]  max_depth=5, min_samples_split=5, n_estimators=45, score=0.678, total=   6.2s\n",
      "[CV] max_depth=5, min_samples_split=5, n_estimators=45 ...............\n",
      "[CV]  max_depth=5, min_samples_split=5, n_estimators=45, score=0.676, total=   6.3s\n",
      "[CV] max_depth=5, min_samples_split=5, n_estimators=45 ...............\n",
      "[CV]  max_depth=5, min_samples_split=5, n_estimators=45, score=0.576, total=   6.2s\n",
      "[CV] max_depth=5, min_samples_split=5, n_estimators=45 ...............\n",
      "[CV]  max_depth=5, min_samples_split=5, n_estimators=45, score=0.628, total=   6.2s\n",
      "[CV] max_depth=5, min_samples_split=5, n_estimators=50 ...............\n",
      "[CV]  max_depth=5, min_samples_split=5, n_estimators=50, score=0.626, total=   6.9s\n",
      "[CV] max_depth=5, min_samples_split=5, n_estimators=50 ...............\n",
      "[CV]  max_depth=5, min_samples_split=5, n_estimators=50, score=0.677, total=   6.8s\n",
      "[CV] max_depth=5, min_samples_split=5, n_estimators=50 ...............\n",
      "[CV]  max_depth=5, min_samples_split=5, n_estimators=50, score=0.576, total=   7.0s\n",
      "[CV] max_depth=5, min_samples_split=5, n_estimators=50 ...............\n",
      "[CV]  max_depth=5, min_samples_split=5, n_estimators=50, score=0.644, total=   7.0s\n",
      "[CV] max_depth=5, min_samples_split=5, n_estimators=50 ...............\n",
      "[CV]  max_depth=5, min_samples_split=5, n_estimators=50, score=0.611, total=   6.9s\n",
      "[CV] max_depth=5, min_samples_split=5, n_estimators=90 ...............\n",
      "[CV]  max_depth=5, min_samples_split=5, n_estimators=90, score=0.633, total=  12.3s\n",
      "[CV] max_depth=5, min_samples_split=5, n_estimators=90 ...............\n",
      "[CV]  max_depth=5, min_samples_split=5, n_estimators=90, score=0.684, total=  12.2s\n",
      "[CV] max_depth=5, min_samples_split=5, n_estimators=90 ...............\n",
      "[CV]  max_depth=5, min_samples_split=5, n_estimators=90, score=0.676, total=  12.4s\n",
      "[CV] max_depth=5, min_samples_split=5, n_estimators=90 ...............\n",
      "[CV]  max_depth=5, min_samples_split=5, n_estimators=90, score=0.675, total=  12.8s\n",
      "[CV] max_depth=5, min_samples_split=5, n_estimators=90 ...............\n",
      "[CV]  max_depth=5, min_samples_split=5, n_estimators=90, score=0.635, total=  12.2s\n",
      "[CV] max_depth=10, min_samples_split=2, n_estimators=45 ..............\n",
      "[CV]  max_depth=10, min_samples_split=2, n_estimators=45, score=0.696, total=  13.4s\n",
      "[CV] max_depth=10, min_samples_split=2, n_estimators=45 ..............\n",
      "[CV]  max_depth=10, min_samples_split=2, n_estimators=45, score=0.661, total=  12.3s\n",
      "[CV] max_depth=10, min_samples_split=2, n_estimators=45 ..............\n",
      "[CV]  max_depth=10, min_samples_split=2, n_estimators=45, score=0.721, total=  12.1s\n",
      "[CV] max_depth=10, min_samples_split=2, n_estimators=45 ..............\n",
      "[CV]  max_depth=10, min_samples_split=2, n_estimators=45, score=0.640, total=  12.2s\n",
      "[CV] max_depth=10, min_samples_split=2, n_estimators=45 ..............\n",
      "[CV]  max_depth=10, min_samples_split=2, n_estimators=45, score=0.687, total=  12.3s\n",
      "[CV] max_depth=10, min_samples_split=2, n_estimators=50 ..............\n",
      "[CV]  max_depth=10, min_samples_split=2, n_estimators=50, score=0.727, total=  12.9s\n",
      "[CV] max_depth=10, min_samples_split=2, n_estimators=50 ..............\n",
      "[CV]  max_depth=10, min_samples_split=2, n_estimators=50, score=0.693, total=  13.0s\n",
      "[CV] max_depth=10, min_samples_split=2, n_estimators=50 ..............\n",
      "[CV]  max_depth=10, min_samples_split=2, n_estimators=50, score=0.675, total=  13.9s\n",
      "[CV] max_depth=10, min_samples_split=2, n_estimators=50 ..............\n",
      "[CV]  max_depth=10, min_samples_split=2, n_estimators=50, score=0.680, total=  14.3s\n",
      "[CV] max_depth=10, min_samples_split=2, n_estimators=50 ..............\n",
      "[CV]  max_depth=10, min_samples_split=2, n_estimators=50, score=0.674, total=  14.3s\n",
      "[CV] max_depth=10, min_samples_split=2, n_estimators=90 ..............\n",
      "[CV]  max_depth=10, min_samples_split=2, n_estimators=90, score=0.675, total=  25.2s\n",
      "[CV] max_depth=10, min_samples_split=2, n_estimators=90 ..............\n",
      "[CV]  max_depth=10, min_samples_split=2, n_estimators=90, score=0.689, total=  24.4s\n",
      "[CV] max_depth=10, min_samples_split=2, n_estimators=90 ..............\n",
      "[CV]  max_depth=10, min_samples_split=2, n_estimators=90, score=0.700, total=  24.3s\n",
      "[CV] max_depth=10, min_samples_split=2, n_estimators=90 ..............\n",
      "[CV]  max_depth=10, min_samples_split=2, n_estimators=90, score=0.705, total=  23.9s\n",
      "[CV] max_depth=10, min_samples_split=2, n_estimators=90 ..............\n",
      "[CV]  max_depth=10, min_samples_split=2, n_estimators=90, score=0.735, total=  25.0s\n",
      "[CV] max_depth=10, min_samples_split=3, n_estimators=45 ..............\n",
      "[CV]  max_depth=10, min_samples_split=3, n_estimators=45, score=0.648, total=  12.2s\n",
      "[CV] max_depth=10, min_samples_split=3, n_estimators=45 ..............\n",
      "[CV]  max_depth=10, min_samples_split=3, n_estimators=45, score=0.679, total=  12.1s\n",
      "[CV] max_depth=10, min_samples_split=3, n_estimators=45 ..............\n",
      "[CV]  max_depth=10, min_samples_split=3, n_estimators=45, score=0.692, total=  11.7s\n",
      "[CV] max_depth=10, min_samples_split=3, n_estimators=45 ..............\n",
      "[CV]  max_depth=10, min_samples_split=3, n_estimators=45, score=0.692, total=  11.8s\n",
      "[CV] max_depth=10, min_samples_split=3, n_estimators=45 ..............\n",
      "[CV]  max_depth=10, min_samples_split=3, n_estimators=45, score=0.744, total=  12.0s\n",
      "[CV] max_depth=10, min_samples_split=3, n_estimators=50 ..............\n",
      "[CV]  max_depth=10, min_samples_split=3, n_estimators=50, score=0.658, total=  13.7s\n",
      "[CV] max_depth=10, min_samples_split=3, n_estimators=50 ..............\n",
      "[CV]  max_depth=10, min_samples_split=3, n_estimators=50, score=0.676, total=  13.5s\n",
      "[CV] max_depth=10, min_samples_split=3, n_estimators=50 ..............\n",
      "[CV]  max_depth=10, min_samples_split=3, n_estimators=50, score=0.712, total=  14.2s\n",
      "[CV] max_depth=10, min_samples_split=3, n_estimators=50 ..............\n",
      "[CV]  max_depth=10, min_samples_split=3, n_estimators=50, score=0.733, total=  14.1s\n",
      "[CV] max_depth=10, min_samples_split=3, n_estimators=50 ..............\n",
      "[CV]  max_depth=10, min_samples_split=3, n_estimators=50, score=0.691, total=  13.5s\n",
      "[CV] max_depth=10, min_samples_split=3, n_estimators=90 ..............\n",
      "[CV]  max_depth=10, min_samples_split=3, n_estimators=90, score=0.751, total=  24.0s\n",
      "[CV] max_depth=10, min_samples_split=3, n_estimators=90 ..............\n"
     ]
    },
    {
     "name": "stdout",
     "output_type": "stream",
     "text": [
      "[CV]  max_depth=10, min_samples_split=3, n_estimators=90, score=0.709, total=  24.3s\n",
      "[CV] max_depth=10, min_samples_split=3, n_estimators=90 ..............\n",
      "[CV]  max_depth=10, min_samples_split=3, n_estimators=90, score=0.667, total=  24.1s\n",
      "[CV] max_depth=10, min_samples_split=3, n_estimators=90 ..............\n",
      "[CV]  max_depth=10, min_samples_split=3, n_estimators=90, score=0.667, total=  23.9s\n",
      "[CV] max_depth=10, min_samples_split=3, n_estimators=90 ..............\n",
      "[CV]  max_depth=10, min_samples_split=3, n_estimators=90, score=0.709, total=  23.9s\n",
      "[CV] max_depth=10, min_samples_split=5, n_estimators=45 ..............\n",
      "[CV]  max_depth=10, min_samples_split=5, n_estimators=45, score=0.673, total=  12.3s\n",
      "[CV] max_depth=10, min_samples_split=5, n_estimators=45 ..............\n",
      "[CV]  max_depth=10, min_samples_split=5, n_estimators=45, score=0.660, total=  12.8s\n",
      "[CV] max_depth=10, min_samples_split=5, n_estimators=45 ..............\n",
      "[CV]  max_depth=10, min_samples_split=5, n_estimators=45, score=0.695, total=  12.4s\n",
      "[CV] max_depth=10, min_samples_split=5, n_estimators=45 ..............\n",
      "[CV]  max_depth=10, min_samples_split=5, n_estimators=45, score=0.651, total=  11.8s\n",
      "[CV] max_depth=10, min_samples_split=5, n_estimators=45 ..............\n",
      "[CV]  max_depth=10, min_samples_split=5, n_estimators=45, score=0.703, total=  12.3s\n",
      "[CV] max_depth=10, min_samples_split=5, n_estimators=50 ..............\n",
      "[CV]  max_depth=10, min_samples_split=5, n_estimators=50, score=0.668, total=  15.3s\n",
      "[CV] max_depth=10, min_samples_split=5, n_estimators=50 ..............\n",
      "[CV]  max_depth=10, min_samples_split=5, n_estimators=50, score=0.655, total=  13.8s\n",
      "[CV] max_depth=10, min_samples_split=5, n_estimators=50 ..............\n",
      "[CV]  max_depth=10, min_samples_split=5, n_estimators=50, score=0.704, total=  13.5s\n",
      "[CV] max_depth=10, min_samples_split=5, n_estimators=50 ..............\n",
      "[CV]  max_depth=10, min_samples_split=5, n_estimators=50, score=0.709, total=  13.5s\n",
      "[CV] max_depth=10, min_samples_split=5, n_estimators=50 ..............\n",
      "[CV]  max_depth=10, min_samples_split=5, n_estimators=50, score=0.663, total=  13.4s\n",
      "[CV] max_depth=10, min_samples_split=5, n_estimators=90 ..............\n",
      "[CV]  max_depth=10, min_samples_split=5, n_estimators=90, score=0.724, total=  24.0s\n",
      "[CV] max_depth=10, min_samples_split=5, n_estimators=90 ..............\n",
      "[CV]  max_depth=10, min_samples_split=5, n_estimators=90, score=0.761, total=  23.7s\n",
      "[CV] max_depth=10, min_samples_split=5, n_estimators=90 ..............\n",
      "[CV]  max_depth=10, min_samples_split=5, n_estimators=90, score=0.684, total=  23.9s\n",
      "[CV] max_depth=10, min_samples_split=5, n_estimators=90 ..............\n",
      "[CV]  max_depth=10, min_samples_split=5, n_estimators=90, score=0.681, total=  23.7s\n",
      "[CV] max_depth=10, min_samples_split=5, n_estimators=90 ..............\n",
      "[CV]  max_depth=10, min_samples_split=5, n_estimators=90, score=0.694, total=  22.9s\n"
     ]
    },
    {
     "name": "stderr",
     "output_type": "stream",
     "text": [
      "[Parallel(n_jobs=1)]: Done 180 out of 180 | elapsed: 26.2min finished\n"
     ]
    },
    {
     "data": {
      "text/plain": [
       "GridSearchCV(cv=None, error_score=nan,\n",
       "             estimator=RandomForestClassifier(bootstrap=True, ccp_alpha=0.0,\n",
       "                                              class_weight='balanced',\n",
       "                                              criterion='gini', max_depth=5,\n",
       "                                              max_features='auto',\n",
       "                                              max_leaf_nodes=None,\n",
       "                                              max_samples=None,\n",
       "                                              min_impurity_decrease=0.0,\n",
       "                                              min_impurity_split=None,\n",
       "                                              min_samples_leaf=1,\n",
       "                                              min_samples_split=2,\n",
       "                                              min_weight_fraction_leaf=0.0,\n",
       "                                              n_estimators=50, n_jobs=None,\n",
       "                                              oob_score=False,\n",
       "                                              random_state=None, verbose=0,\n",
       "                                              warm_start=False),\n",
       "             iid='deprecated', n_jobs=1,\n",
       "             param_grid={'max_depth': [2, 3, 5, 10],\n",
       "                         'min_samples_split': [2, 3, 5],\n",
       "                         'n_estimators': [45, 50, 90]},\n",
       "             pre_dispatch='2*n_jobs', refit=True, return_train_score=False,\n",
       "             scoring=None, verbose=3)"
      ]
     },
     "execution_count": 107,
     "metadata": {},
     "output_type": "execute_result"
    }
   ],
   "source": [
    "grid.fit(X_train,y_train)"
   ]
  },
  {
   "cell_type": "code",
   "execution_count": 109,
   "metadata": {},
   "outputs": [
    {
     "data": {
      "text/plain": [
       "{'max_depth': 10, 'min_samples_split': 5, 'n_estimators': 90}"
      ]
     },
     "execution_count": 109,
     "metadata": {},
     "output_type": "execute_result"
    }
   ],
   "source": [
    "grid.best_params_"
   ]
  },
  {
   "cell_type": "code",
   "execution_count": 110,
   "metadata": {},
   "outputs": [
    {
     "data": {
      "text/plain": [
       "RandomForestClassifier(bootstrap=True, ccp_alpha=0.0, class_weight='balanced',\n",
       "                       criterion='gini', max_depth=10, max_features='auto',\n",
       "                       max_leaf_nodes=None, max_samples=None,\n",
       "                       min_impurity_decrease=0.0, min_impurity_split=None,\n",
       "                       min_samples_leaf=1, min_samples_split=5,\n",
       "                       min_weight_fraction_leaf=0.0, n_estimators=90,\n",
       "                       n_jobs=None, oob_score=False, random_state=None,\n",
       "                       verbose=0, warm_start=False)"
      ]
     },
     "execution_count": 110,
     "metadata": {},
     "output_type": "execute_result"
    }
   ],
   "source": [
    "grid.best_estimator_"
   ]
  },
  {
   "cell_type": "code",
   "execution_count": 114,
   "metadata": {},
   "outputs": [],
   "source": [
    "rfc = RandomForestClassifier(n_estimators = 90,max_depth = 10,min_samples_split = 5,class_weight='balanced',criterion='gini')"
   ]
  },
  {
   "cell_type": "code",
   "execution_count": 115,
   "metadata": {},
   "outputs": [
    {
     "data": {
      "text/plain": [
       "RandomForestClassifier(bootstrap=True, ccp_alpha=0.0, class_weight='balanced',\n",
       "                       criterion='gini', max_depth=10, max_features='auto',\n",
       "                       max_leaf_nodes=None, max_samples=None,\n",
       "                       min_impurity_decrease=0.0, min_impurity_split=None,\n",
       "                       min_samples_leaf=1, min_samples_split=5,\n",
       "                       min_weight_fraction_leaf=0.0, n_estimators=90,\n",
       "                       n_jobs=None, oob_score=False, random_state=None,\n",
       "                       verbose=0, warm_start=False)"
      ]
     },
     "execution_count": 115,
     "metadata": {},
     "output_type": "execute_result"
    }
   ],
   "source": [
    "rfc.fit(X_train,y_train)"
   ]
  },
  {
   "cell_type": "code",
   "execution_count": 125,
   "metadata": {},
   "outputs": [],
   "source": [
    "prediction_valid = rfc.predict(X_valid)"
   ]
  },
  {
   "cell_type": "code",
   "execution_count": 126,
   "metadata": {},
   "outputs": [
    {
     "name": "stdout",
     "output_type": "stream",
     "text": [
      "              precision    recall  f1-score   support\n",
      "\n",
      "           0       0.70      0.98      0.81     20522\n",
      "           1       0.85      0.24      0.37     11392\n",
      "\n",
      "    accuracy                           0.71     31914\n",
      "   macro avg       0.78      0.61      0.59     31914\n",
      "weighted avg       0.75      0.71      0.66     31914\n",
      "\n"
     ]
    }
   ],
   "source": [
    "print(classification_report(prediction_valid,y_valid))"
   ]
  },
  {
   "cell_type": "markdown",
   "metadata": {},
   "source": [
    "Теперь прогоним модельку через Логистическую регрессию"
   ]
  },
  {
   "cell_type": "code",
   "execution_count": 118,
   "metadata": {},
   "outputs": [],
   "source": [
    "from sklearn.linear_model import LogisticRegression"
   ]
  },
  {
   "cell_type": "code",
   "execution_count": 120,
   "metadata": {},
   "outputs": [],
   "source": [
    "logreg = LogisticRegression(class_weight = 'balanced', random_state=123)"
   ]
  },
  {
   "cell_type": "code",
   "execution_count": 121,
   "metadata": {},
   "outputs": [
    {
     "data": {
      "text/plain": [
       "LogisticRegression(C=1.0, class_weight='balanced', dual=False,\n",
       "                   fit_intercept=True, intercept_scaling=1, l1_ratio=None,\n",
       "                   max_iter=100, multi_class='auto', n_jobs=None, penalty='l2',\n",
       "                   random_state=123, solver='lbfgs', tol=0.0001, verbose=0,\n",
       "                   warm_start=False)"
      ]
     },
     "execution_count": 121,
     "metadata": {},
     "output_type": "execute_result"
    }
   ],
   "source": [
    "logreg.fit(X_train,y_train)"
   ]
  },
  {
   "cell_type": "code",
   "execution_count": 127,
   "metadata": {},
   "outputs": [],
   "source": [
    "pred_valid = logreg.predict(X_valid)"
   ]
  },
  {
   "cell_type": "code",
   "execution_count": 128,
   "metadata": {},
   "outputs": [],
   "source": [
    "pred_test = logreg.predict(X_test)"
   ]
  },
  {
   "cell_type": "code",
   "execution_count": 129,
   "metadata": {},
   "outputs": [
    {
     "name": "stdout",
     "output_type": "stream",
     "text": [
      "Метрики на валидационной выборке:\n",
      "              precision    recall  f1-score   support\n",
      "\n",
      "           0       0.95      0.98      0.97     27900\n",
      "           1       0.83      0.66      0.74      4014\n",
      "\n",
      "    accuracy                           0.94     31914\n",
      "   macro avg       0.89      0.82      0.85     31914\n",
      "weighted avg       0.94      0.94      0.94     31914\n",
      "\n",
      "Метрики на тестовой выборке:\n",
      "              precision    recall  f1-score   support\n",
      "\n",
      "           0       0.95      0.98      0.97     27789\n",
      "           1       0.85      0.66      0.75      4126\n",
      "\n",
      "    accuracy                           0.94     31915\n",
      "   macro avg       0.90      0.82      0.86     31915\n",
      "weighted avg       0.94      0.94      0.94     31915\n",
      "\n"
     ]
    }
   ],
   "source": [
    "print(\"Метрики на валидационной выборке:\") \n",
    "print(classification_report(pred_valid, y_valid)) \n",
    "print(\"Метрики на тестовой выборке:\") \n",
    "print(classification_report(pred_test,y_test))  "
   ]
  },
  {
   "cell_type": "markdown",
   "metadata": {},
   "source": [
    "Теперь попробуем запустить градиентный бустинг и посмотрим на скор"
   ]
  },
  {
   "cell_type": "code",
   "execution_count": 130,
   "metadata": {},
   "outputs": [
    {
     "name": "stdout",
     "output_type": "stream",
     "text": [
      "0:\tlearn: 0.4593028\ttotal: 2.35s\tremaining: 19m 32s\n",
      "50:\tlearn: 0.7391758\ttotal: 1m 1s\tremaining: 8m 58s\n",
      "100:\tlearn: 0.7823616\ttotal: 2m 9s\tremaining: 8m 31s\n",
      "150:\tlearn: 0.8040312\ttotal: 3m 10s\tremaining: 7m 20s\n",
      "200:\tlearn: 0.8231508\ttotal: 4m 10s\tremaining: 6m 12s\n",
      "250:\tlearn: 0.8353721\ttotal: 5m 2s\tremaining: 5m\n",
      "300:\tlearn: 0.8403304\ttotal: 5m 56s\tremaining: 3m 55s\n",
      "350:\tlearn: 0.8446541\ttotal: 6m 49s\tremaining: 2m 53s\n",
      "400:\tlearn: 0.8491582\ttotal: 7m 41s\tremaining: 1m 53s\n",
      "450:\tlearn: 0.8530458\ttotal: 8m 34s\tremaining: 55.9s\n",
      "499:\tlearn: 0.8572393\ttotal: 9m 27s\tremaining: 0us\n",
      "Метрики на валидационной выборке:\n",
      "              precision    recall  f1-score   support\n",
      "\n",
      "           0       0.99      0.96      0.98     29474\n",
      "           1       0.67      0.89      0.77      2440\n",
      "\n",
      "    accuracy                           0.96     31914\n",
      "   macro avg       0.83      0.92      0.87     31914\n",
      "weighted avg       0.97      0.96      0.96     31914\n",
      "\n",
      "Метрики на тестовой выборке:\n",
      "              precision    recall  f1-score   support\n",
      "\n",
      "           0       0.99      0.97      0.98     29386\n",
      "           1       0.69      0.88      0.77      2529\n",
      "\n",
      "    accuracy                           0.96     31915\n",
      "   macro avg       0.84      0.92      0.88     31915\n",
      "weighted avg       0.97      0.96      0.96     31915\n",
      "\n"
     ]
    }
   ],
   "source": [
    "from catboost import CatBoostClassifier  \n",
    " \n",
    "model = CatBoostClassifier(\n",
    "            iterations=500,\n",
    "            random_seed = 123,\n",
    "            metric_period = 50,\n",
    "            verbose=50,\n",
    "            eval_metric = 'F1',\n",
    "            learning_rate = 0.5,\n",
    "            early_stopping_rounds = 50)\n",
    " \n",
    "model.fit(X_train, y_train)\n",
    "\n",
    "prediction_valid = model.predict(X_valid)\n",
    "prediction_test = model.predict(X_test)\n",
    "\n",
    "print(\"Метрики на валидационной выборке:\") \n",
    "print(classification_report(prediction_valid, y_valid)) \n",
    "print(\"Метрики на тестовой выборке:\") \n",
    "print(classification_report(prediction_test,y_test))  "
   ]
  },
  {
   "cell_type": "markdown",
   "metadata": {},
   "source": [
    "Делаем выводы ->"
   ]
  },
  {
   "cell_type": "code",
   "execution_count": 132,
   "metadata": {},
   "outputs": [],
   "source": [
    "from sklearn.metrics import roc_auc_score, roc_curve\n",
    "from sklearn.metrics import f1_score"
   ]
  },
  {
   "cell_type": "code",
   "execution_count": 139,
   "metadata": {},
   "outputs": [
    {
     "name": "stdout",
     "output_type": "stream",
     "text": [
      "F1 метрика на тестовой выборке: 0.77\n"
     ]
    }
   ],
   "source": [
    "print('F1 метрика на тестовой выборке:', round(f1_score(prediction_test, y_test),2))"
   ]
  },
  {
   "cell_type": "code",
   "execution_count": 140,
   "metadata": {},
   "outputs": [],
   "source": [
    "probabilities_test = model.predict_proba(X_test)\n",
    "probabilities_one_test = probabilities_test[:, 1]"
   ]
  },
  {
   "cell_type": "code",
   "execution_count": 146,
   "metadata": {},
   "outputs": [],
   "source": [
    "auc_roc = roc_auc_score(y_test, probabilities_one_test)"
   ]
  },
  {
   "cell_type": "code",
   "execution_count": 152,
   "metadata": {},
   "outputs": [],
   "source": [
    "fpr, tpr, thresholds = roc_curve(y_test, probabilities_one_test)"
   ]
  },
  {
   "cell_type": "code",
   "execution_count": 154,
   "metadata": {},
   "outputs": [
    {
     "data": {
      "text/plain": [
       "<Figure size 864x1152 with 0 Axes>"
      ]
     },
     "metadata": {},
     "output_type": "display_data"
    },
    {
     "data": {
      "image/png": "[encoded data removed]",
      "text/plain": [
       "<Figure size 432x288 with 1 Axes>"
      ]
     },
     "metadata": {
      "needs_background": "light"
     },
     "output_type": "display_data"
    },
    {
     "name": "stdout",
     "output_type": "stream",
     "text": [
      "F1 метрика на тестовой выборке: 0.77\n"
     ]
    }
   ],
   "source": [
    "plt.figure(figsize=(12,16))\n",
    "plt.figure()\n",
    "plt.plot(fpr, tpr)\n",
    "\n",
    "plt.plot([0, 1], [0, 1], linestyle='--')\n",
    "plt.xlim([0.0, 1.0])\n",
    "plt.ylim([0.0, 1.0])\n",
    "plt.xlabel('False Positive Rate')\n",
    "plt.ylabel('True Positive Rate')\n",
    "plt.title('ROC-кривая, AUC-ROC=' + \"{0:.4f}\".format(auc_roc))\n",
    "plt.show()\n",
    "\n",
    "print('F1 метрика на тестовой выборке:', round(f1_score(prediction_test, y_test),2))"
   ]
  },
  {
   "cell_type": "markdown",
   "metadata": {},
   "source": [
    "ROC кривая должна располагаться над диагональной линией, в таком случае это сигнализирует нам о том, что мы выбрали хорошую модель.  Чем сильнее roc кривая стремится к верхнему левому углу, тем лучше. \n",
    "Таким образом, цель задания достигнута . Модели, на основе градиентного бустинга (CatBoost) и логистической регрессии достигли требуемого установленного уровня F1-метрики в 0.75."
   ]
  },
  {
   "cell_type": "code",
   "execution_count": null,
   "metadata": {},
   "outputs": [],
   "source": []
  }
 ],
 "metadata": {
  "kernelspec": {
   "display_name": "Python 3",
   "language": "python",
   "name": "python3"
  },
  "language_info": {
   "codemirror_mode": {
    "name": "ipython",
    "version": 3
   },
   "file_extension": ".py",
   "mimetype": "text/x-python",
   "name": "python",
   "nbconvert_exporter": "python",
   "pygments_lexer": "ipython3",
   "version": "3.7.6"
  }
 },
 "nbformat": 4,
 "nbformat_minor": 4
}
